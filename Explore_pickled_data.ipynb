{
 "cells": [
  {
   "cell_type": "code",
   "execution_count": 1,
   "metadata": {},
   "outputs": [],
   "source": [
    "import os\n",
    "os.chdir('IBM_pickled_data/') # change directory\n",
    "import pickle\n",
    "import csv\n",
    "from pprint import pprint\n",
    "# Make sure \"ClusterMapData.py\" is in your working directory and that \"typing\" is also installed\n",
    "from ClusterMapData import ClusterMapData\n",
    "# https://docs.scipy.org/doc/scipy/reference/generated/scipy.cluster.hierarchy.linkage.html\n",
    "# https://seaborn.pydata.org/generated/seaborn.clustermap.html"
   ]
  },
  {
   "cell_type": "markdown",
   "metadata": {},
   "source": [
    "# Pick which genera to analyze"
   ]
  },
  {
   "cell_type": "code",
   "execution_count": 3,
   "metadata": {},
   "outputs": [],
   "source": [
    "genera = [\n",
    "    'escherichia',\n",
    "    'shigella',\n",
    "    'listeria',\n",
    "    'salmonella'\n",
    "]\n",
    "\n",
    "# also includes campylobacter, but we aren't using this data"
   ]
  },
  {
   "cell_type": "markdown",
   "metadata": {},
   "source": [
    "# Extract data from pivot vs neighbor domains\n",
    "Notice that we have to specify which folder the data is in. In the examples below, we are loading data from the \"domain/\" directory.\n",
    "\n",
    "The \"domain/\" directory contains pickle and png files from the analysis of pivot domain architecture vs neighbor domain architecture. We likely won't be using this much for our primary analysis."
   ]
  },
  {
   "cell_type": "code",
   "execution_count": 4,
   "metadata": {},
   "outputs": [
    {
     "name": "stdout",
     "output_type": "stream",
     "text": [
      "Pivot Domain vs. Neighbor Domain\n",
      "Example for escherichia dataset.\n",
      "Below are the data objects we in the pickled data for each genus.\n",
      "--------------------------------\n",
      "\n",
      "genus: escherichia\n",
      "shape=(899, 3700)\n",
      "row_labels=['000e97918ef5156f91e7b45faccb8a34']\n",
      "row_linkage=[[2.83000000e+02 6.05000000e+02 6.44261629e-04 2.00000000e+00]]\n",
      "col_labels=['702149cb9bb9153481a1eac12614ce4c:D']\n",
      "col_linkage=[[  1. 301.   0.   2.]]\n",
      "col_colors=['#2980B9']\n",
      "col_color_indices=[1]\n",
      "\n"
     ]
    }
   ],
   "source": [
    "print('Pivot Domain vs. Neighbor Domain')\n",
    "print('Example for escherichia dataset.')\n",
    "print('Below are the data objects we in the pickled data for each genus.')\n",
    "print('--------------------------------')\n",
    "print('')\n",
    "\n",
    "for genus in genera[:1]:\n",
    "    with open(f'domain/{genus}.pickle', 'rb') as pickle_file:\n",
    "        cluster_map_data = pickle.load(pickle_file)\n",
    "        print(f'genus: {genus}')\n",
    "        print(f'shape={cluster_map_data.data.shape}')\n",
    "        print(f'row_labels={cluster_map_data.row_labels[:1]}')\n",
    "        print(f'row_linkage={cluster_map_data.row_linkage[:1]}')\n",
    "        print(f'col_labels={cluster_map_data.col_labels[:1]}')\n",
    "        print(f'col_linkage={cluster_map_data.col_linkage[:1]}')\n",
    "        print(f'col_colors={cluster_map_data.col_colors[:1]}')\n",
    "        print(f'col_color_indices={cluster_map_data.col_color_indices[:1]}')\n",
    "        print('')"
   ]
  },
  {
   "cell_type": "code",
   "execution_count": 5,
   "metadata": {},
   "outputs": [
    {
     "name": "stdout",
     "output_type": "stream",
     "text": [
      "Pivot Domain vs. Neighbor Domain\n",
      "Example for escherichia dataset\n",
      "--------------------------------\n",
      "\n",
      "shape=(899, 3700)\n"
     ]
    }
   ],
   "source": [
    "print('Pivot Domain vs. Neighbor Domain')\n",
    "print(\"Example for escherichia dataset\")\n",
    "print('--------------------------------')\n",
    "print('')\n",
    "\n",
    "for genus in genera[:1]:\n",
    "    with open(f'domain/{genus}.pickle', 'rb') as pickle_file:\n",
    "        cluster_map_data = pickle.load(pickle_file)\n",
    "        print(f'shape={cluster_map_data.data.shape}')\n",
    "        "
   ]
  },
  {
   "cell_type": "markdown",
   "metadata": {},
   "source": [
    "# Extract data from genome vs domain\n",
    "Now, let's get data from the \"genome/\" directory.\n",
    "\n",
    "This contains pickle and png files from the analysis of genome vs domain architecture."
   ]
  },
  {
   "cell_type": "code",
   "execution_count": 3,
   "metadata": {},
   "outputs": [
    {
     "name": "stdout",
     "output_type": "stream",
     "text": [
      "Genome vs. Domain\n",
      "-----------------\n",
      "\n",
      "genus: escherichia\n",
      "shape=(11339, 4599)\n",
      "row_labels=['DRR015927']\n",
      "row_linkage=[[3.933e+03 4.780e+03 0.000e+00 2.000e+00]]\n",
      "col_labels=['fdaf9740209c89757d7863d311697df7:P']\n",
      "col_linkage=[[7.82000000e+02 7.83000000e+02 3.33671063e-01 2.00000000e+00]]\n",
      "col_colors=['#2980B9']\n",
      "col_color_indices=[2]\n",
      "\n",
      "genus: shigella\n",
      "shape=(5660, 3882)\n",
      "row_labels=['DRR015915']\n",
      "row_linkage=[[3.345e+03 3.846e+03 0.000e+00 2.000e+00]]\n",
      "col_labels=['fdaf9740209c89757d7863d311697df7:P']\n",
      "col_linkage=[[ 795. 1613.    0.    2.]]\n",
      "col_colors=['#2980B9']\n",
      "col_color_indices=[2]\n",
      "\n",
      "genus: listeria\n",
      "shape=(7968, 1876)\n",
      "row_labels=['DRR015836']\n",
      "row_linkage=[[8.170e+02 2.012e+03 0.000e+00 2.000e+00]]\n",
      "col_labels=['fdaf9740209c89757d7863d311697df7:P']\n",
      "col_linkage=[[ 351. 1506.    0.    2.]]\n",
      "col_colors=['#2980B9']\n",
      "col_color_indices=[2]\n",
      "\n",
      "genus: salmonella\n",
      "shape=(39777, 3919)\n",
      "row_labels=['DRR021403']\n",
      "row_linkage=[[9.4980e+03 1.4264e+04 0.0000e+00 2.0000e+00]]\n",
      "col_labels=['fdaf9740209c89757d7863d311697df7:P']\n",
      "col_linkage=[[2.31700000e+03 2.31800000e+03 2.63034406e-01 2.00000000e+00]]\n",
      "col_colors=['#2980B9']\n",
      "col_color_indices=[2]\n",
      "\n"
     ]
    }
   ],
   "source": [
    "print('Genome vs. Domain')\n",
    "print('-----------------')\n",
    "print('')\n",
    "\n",
    "for genus in genera:\n",
    "    with open(f'genome/{genus}.pickle', 'rb') as pickle_file:\n",
    "        cluster_map_data = pickle.load(pickle_file)\n",
    "        print(f'genus: {genus}')\n",
    "        print(f'shape={cluster_map_data.data.shape}')\n",
    "        print(f'row_labels={cluster_map_data.row_labels[:1]}')\n",
    "        print(f'row_linkage={cluster_map_data.row_linkage[:1]}')\n",
    "        print(f'col_labels={cluster_map_data.col_labels[:1]}')\n",
    "        print(f'col_linkage={cluster_map_data.col_linkage[:1]}')\n",
    "        print(f'col_colors={cluster_map_data.col_colors[:1]}')\n",
    "        print(f'col_color_indices={cluster_map_data.col_color_indices[:1]}')\n",
    "        print('')\n"
   ]
  },
  {
   "cell_type": "markdown",
   "metadata": {},
   "source": [
    "# Extract the genome IDs"
   ]
  },
  {
   "cell_type": "code",
   "execution_count": 6,
   "metadata": {
    "scrolled": true
   },
   "outputs": [
    {
     "name": "stdout",
     "output_type": "stream",
     "text": [
      "Genome vs. Domain\n",
      "-----------------\n",
      "\n",
      "genus: escherichia\n",
      "genus: shigella\n",
      "genus: listeria\n",
      "genus: salmonella\n"
     ]
    }
   ],
   "source": [
    "print('Genome vs. Domain')\n",
    "print('-----------------')\n",
    "print('')\n",
    "\n",
    "# Dictionary for genus\n",
    "genera_runs = {}\n",
    "\n",
    "for genus in genera:\n",
    "    with open(f'genome/{genus}.pickle', 'rb') as pickle_file:\n",
    "        cluster_map_data = pickle.load(pickle_file)\n",
    "        print(f'genus: {genus}')\n",
    "        genera_runs[genus] = cluster_map_data.row_labels\n"
   ]
  },
  {
   "cell_type": "markdown",
   "metadata": {},
   "source": [
    "## Print out file with genome IDs for each genera\n",
    "\n",
    "Need to run each block twice for some reason.."
   ]
  },
  {
   "cell_type": "code",
   "execution_count": 15,
   "metadata": {},
   "outputs": [],
   "source": [
    "%%capture cap --no-stderr\n",
    "\n",
    "for SRR in genera_runs['escherichia']:\n",
    "    with open(f'high_quality_escherichia_genomes.txt','w') as f:\n",
    "        print(SRR)\n",
    "        f.write(cap.stdout)\n"
   ]
  },
  {
   "cell_type": "code",
   "execution_count": 56,
   "metadata": {},
   "outputs": [],
   "source": [
    "%%capture cap --no-stderr\n",
    "\n",
    "for SRR in genera_runs['shigella']:\n",
    "    with open(f'high_quality_shigella_genomes.txt','w') as f:\n",
    "        print(SRR)\n",
    "        f.write(cap.stdout)\n"
   ]
  },
  {
   "cell_type": "code",
   "execution_count": 61,
   "metadata": {},
   "outputs": [],
   "source": [
    "%%capture cap --no-stderr\n",
    "\n",
    "for SRR in genera_runs['listeria']:\n",
    "    with open(f'high_quality_listeria_genomes.txt','w') as f:\n",
    "        print(SRR)\n",
    "        f.write(cap.stdout)\n"
   ]
  },
  {
   "cell_type": "code",
   "execution_count": 63,
   "metadata": {},
   "outputs": [],
   "source": [
    "%%capture cap --no-stderr\n",
    "\n",
    "for SRR in genera_runs['salmonella']:\n",
    "    with open(f'high_quality_salmonella_genomes.txt','w') as f:\n",
    "        print(SRR)\n",
    "        f.write(cap.stdout)\n"
   ]
  },
  {
   "cell_type": "code",
   "execution_count": 9,
   "metadata": {},
   "outputs": [
    {
     "data": {
      "text/plain": [
       "['__add__',\n",
       " '__class__',\n",
       " '__contains__',\n",
       " '__delattr__',\n",
       " '__delitem__',\n",
       " '__dir__',\n",
       " '__doc__',\n",
       " '__eq__',\n",
       " '__format__',\n",
       " '__ge__',\n",
       " '__getattribute__',\n",
       " '__getitem__',\n",
       " '__gt__',\n",
       " '__hash__',\n",
       " '__iadd__',\n",
       " '__imul__',\n",
       " '__init__',\n",
       " '__init_subclass__',\n",
       " '__iter__',\n",
       " '__le__',\n",
       " '__len__',\n",
       " '__lt__',\n",
       " '__mul__',\n",
       " '__ne__',\n",
       " '__new__',\n",
       " '__reduce__',\n",
       " '__reduce_ex__',\n",
       " '__repr__',\n",
       " '__reversed__',\n",
       " '__rmul__',\n",
       " '__setattr__',\n",
       " '__setitem__',\n",
       " '__sizeof__',\n",
       " '__str__',\n",
       " '__subclasshook__',\n",
       " 'append',\n",
       " 'clear',\n",
       " 'copy',\n",
       " 'count',\n",
       " 'extend',\n",
       " 'index',\n",
       " 'insert',\n",
       " 'pop',\n",
       " 'remove',\n",
       " 'reverse',\n",
       " 'sort']"
      ]
     },
     "execution_count": 9,
     "metadata": {},
     "output_type": "execute_result"
    }
   ],
   "source": [
    "dir(genera_runs['salmonella'])"
   ]
  },
  {
   "cell_type": "code",
   "execution_count": null,
   "metadata": {},
   "outputs": [],
   "source": []
  },
  {
   "cell_type": "code",
   "execution_count": null,
   "metadata": {},
   "outputs": [],
   "source": []
  }
 ],
 "metadata": {
  "kernelspec": {
   "display_name": "Python 3",
   "language": "python",
   "name": "python3"
  },
  "language_info": {
   "codemirror_mode": {
    "name": "ipython",
    "version": 3
   },
   "file_extension": ".py",
   "mimetype": "text/x-python",
   "name": "python",
   "nbconvert_exporter": "python",
   "pygments_lexer": "ipython3",
   "version": "3.8.5"
  }
 },
 "nbformat": 4,
 "nbformat_minor": 2
}
